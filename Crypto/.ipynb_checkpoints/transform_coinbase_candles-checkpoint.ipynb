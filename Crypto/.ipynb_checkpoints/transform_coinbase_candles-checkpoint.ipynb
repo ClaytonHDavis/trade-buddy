{
 "cells": [
  {
   "cell_type": "code",
   "execution_count": 7,
   "id": "45d47169",
   "metadata": {},
   "outputs": [
    {
     "data": {
      "application/vnd.jupyter.widget-view+json": {
       "model_id": "a750c73179ef45ab862e403859a8c8fd",
       "version_major": 2,
       "version_minor": 0
      },
      "text/plain": [
       "interactive(children=(Dropdown(description='Product ID:', options=('ASM-USDC', 'ASM-USD', 'CVC-USDC', 'CVC-USD…"
      ]
     },
     "metadata": {},
     "output_type": "display_data"
    },
    {
     "data": {
      "text/plain": [
       "<function __main__.plot_product(product_id)>"
      ]
     },
     "execution_count": 7,
     "metadata": {},
     "output_type": "execute_result"
    }
   ],
   "source": [
    "import pandas as pd\n",
    "import matplotlib.pyplot as plt\n",
    "import ipywidgets as widgets\n",
    "from IPython.display import display\n",
    "\n",
    "# Retrieve the data from the CSV file and display the first few rows\n",
    "df = pd.read_csv('coinbase_candles_5min.csv')\n",
    "\n",
    "# Get list of products from \"Coinbase_liquid.txt\" (each line is a symbol)\n",
    "with open('Coinbase_liquid.txt') as f:\n",
    "    products = f.readlines()\n",
    "products = [x.strip() for x in products]\n",
    "\n",
    "# Filter the list on these products\n",
    "df = df[df['product_id'].isin(products)]\n",
    "\n",
    "# Add a new column to the DataFrame to calculate the moving average\n",
    "df['MA'] = df['close'].rolling(window=5).mean()\n",
    "\n",
    "# Add a new column to the DataFrame to calculate the exponential moving average\n",
    "df['EMA'] = df['close'].ewm(span=5, adjust=False).mean()\n",
    "\n",
    "# Do EMA for the price_change column\n",
    "df['price_change_EMA'] = df['price_change'].ewm(span=5, adjust=False).mean()\n",
    "\n",
    "# Smooth the price_change_EMA column using a rolling mean\n",
    "df['price_change_EMA_smooth'] = df['price_change_EMA'].rolling(window=50).mean()\n",
    "\n",
    "# Sort by highest price_change_EMA_smooth\n",
    "df = df.sort_values(by='price_change_EMA_smooth', ascending=False)\n",
    "\n",
    "# Function to plot data for a given product_id\n",
    "def plot_product(product_id):\n",
    "    product_df = df[df['product_id'] == product_id].sort_values(by='start', ascending=True)\n",
    "    \n",
    "    plt.figure(figsize=(14, 7))\n",
    "    plt.plot(product_df['start'], product_df['price_change_EMA_smooth'], label='price_change_EMA_smooth')\n",
    "    plt.title(f'Price Change EMA Smooth for {product_id}')\n",
    "    plt.xlabel('Time')\n",
    "    plt.ylabel('Price Change EMA Smooth')\n",
    "    plt.legend()\n",
    "    plt.show()\n",
    "\n",
    "# Create a dropdown widget for selecting product_id\n",
    "product_dropdown = widgets.Dropdown(\n",
    "    options=products,\n",
    "    description='Product ID:',\n",
    "    disabled=False,\n",
    ")\n",
    "\n",
    "# Display the interactive plot\n",
    "widgets.interact(plot_product, product_id=product_dropdown)"
   ]
  },
  {
   "cell_type": "code",
   "execution_count": null,
   "id": "7cd3d0e5-ff71-4cc5-b400-cfcde66253f6",
   "metadata": {},
   "outputs": [],
   "source": []
  }
 ],
 "metadata": {
  "kernelspec": {
   "display_name": "Python 3 (ipykernel)",
   "language": "python",
   "name": "python3"
  },
  "language_info": {
   "codemirror_mode": {
    "name": "ipython",
    "version": 3
   },
   "file_extension": ".py",
   "mimetype": "text/x-python",
   "name": "python",
   "nbconvert_exporter": "python",
   "pygments_lexer": "ipython3",
   "version": "3.10.6"
  }
 },
 "nbformat": 4,
 "nbformat_minor": 5
}
